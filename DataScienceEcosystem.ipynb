{
 "cells": [
  {
   "cell_type": "markdown",
   "id": "64c0541d-b443-4d7f-b031-ef6a92daf399",
   "metadata": {},
   "source": [
    "# Data Science Tools and Ecosystem"
   ]
  },
  {
   "cell_type": "markdown",
   "id": "7abd94f7-77c9-4ee1-a2a8-ded8fe7e5fc4",
   "metadata": {},
   "source": [
    "# In this notebook, Data Science Tools and Ecosystem are summarized."
   ]
  },
  {
   "cell_type": "markdown",
   "id": "cc160ab7-7599-45bd-803c-aeac651c30a8",
   "metadata": {},
   "source": [
    "# Some of the popular languages that Data Scientists use are:\n",
    "\n",
    "1. Python Language\n",
    "2. R Programming Language\n",
    "3. Julia\n",
    "4. SQL"
   ]
  },
  {
   "cell_type": "markdown",
   "id": "8a784395-8a34-4d24-8bc5-cba78e414e21",
   "metadata": {},
   "source": [
    "# Some of the commonly used libraries used by Data Scientists include:\n",
    "\n",
    "1. Numpy\n",
    "2. Pandas\n",
    "3. Matplotlib\n",
    "4. Scikit-Learn\n",
    "5. Tensorflow"
   ]
  },
  {
   "cell_type": "markdown",
   "id": "4a5dd73c-f95c-41cd-9920-a7d652a08c4a",
   "metadata": {},
   "source": [
    "# Data Science Tools\n",
    "| Tools                    | Functions\n",
    ":-------------------------:|:-------------------------:\n",
    "| Programming Languages    | Codes like Python & R|\n",
    "| Libraries                | To Make things easier    |\n",
    "| Github/Gitlab            | For version control      |"
   ]
  },
  {
   "cell_type": "code",
   "execution_count": 1,
   "id": "71cd765c-d185-427f-91b1-177a3b8891bf",
   "metadata": {
    "tags": []
   },
   "outputs": [
    {
     "name": "stdout",
     "output_type": "stream",
     "text": [
      "11\n"
     ]
    }
   ],
   "source": [
    "print(5+6)"
   ]
  },
  {
   "cell_type": "code",
   "execution_count": null,
   "id": "3269ae66-1998-4c09-a8d6-7fcaaad50004",
   "metadata": {},
   "outputs": [],
   "source": []
  }
 ],
 "metadata": {
  "kernelspec": {
   "display_name": "Python",
   "language": "python",
   "name": "conda-env-python-py"
  },
  "language_info": {
   "codemirror_mode": {
    "name": "ipython",
    "version": 3
   },
   "file_extension": ".py",
   "mimetype": "text/x-python",
   "name": "python",
   "nbconvert_exporter": "python",
   "pygments_lexer": "ipython3",
   "version": "3.7.12"
  }
 },
 "nbformat": 4,
 "nbformat_minor": 5
}
